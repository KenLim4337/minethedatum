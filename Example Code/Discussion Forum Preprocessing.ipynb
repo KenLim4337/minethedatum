{
 "cells": [
  {
   "cell_type": "code",
   "execution_count": null,
   "metadata": {
    "collapsed": false
   },
   "outputs": [],
   "source": [
    "#Add word count field to discussion forum document in mongodb\n",
    "\n",
    "from pymongo import MongoClient\n",
    "from pymongo.errors import BulkWriteError\n",
    "\n",
    "client = MongoClient()\n",
    "dbname = 'crime101x2014'\n",
    "db = client[dbname]\n",
    "\n",
    "#Calculate the word count of a text variable (inteded for forum posts)\n",
    "def calculate_wordcount(textcontent):\n",
    "    words = ''.join(c if c.isalnum() else ' ' for c in textcontent).split()\n",
    "    return len(words)\n",
    "\n",
    "\"\"\"\n",
    "Cleans up forum post data and pre processes data.\n",
    " \n",
    " Adds a Word count to the db entry\n",
    " \n",
    "\"\"\"\n",
    "def process_forumposts(db):\n",
    "    # Find all forum posts\n",
    "    cursor = db.discussion_forum.find()\n",
    "    \n",
    "    bulk_op = db.discussion_forum.initialize_unordered_bulk_op()\n",
    "\n",
    "    for document in cursor:\n",
    "        #print document\n",
    "        mongo_id = document['_id']\n",
    "        body = document['body']\n",
    "        title = \"\"\n",
    "        \n",
    "        if 'title' in document: \n",
    "            title = document['title']\n",
    "        #Create a vriable to hold the whole of the forum post\n",
    "        forumpostcontent = body + \" \" + title\n",
    "        #Retrieve the word count \n",
    "        wordcount = calculate_wordcount(forumpostcontent)\n",
    "        #Update the db entry with a wordcount field\n",
    "        bulk_op.find({'_id': mongo_id}).update({'$set': {'wordcount': wordcount}})\n",
    "        \n",
    "    try:\n",
    "        bulk_op.execute()\n",
    "    except BulkWriteError as bwe:\n",
    "        print bwe.details"
   ]
  },
  {
   "cell_type": "code",
   "execution_count": 15,
   "metadata": {
    "collapsed": false
   },
   "outputs": [],
   "source": [
    "process_forumposts(db)"
   ]
  }
 ],
 "metadata": {
  "kernelspec": {
   "display_name": "Python 2",
   "language": "python",
   "name": "python2"
  },
  "language_info": {
   "codemirror_mode": {
    "name": "ipython",
    "version": 2.0
   },
   "file_extension": ".py",
   "mimetype": "text/x-python",
   "name": "python",
   "nbconvert_exporter": "python",
   "pygments_lexer": "ipython2",
   "version": "2.7.10"
  }
 },
 "nbformat": 4,
 "nbformat_minor": 0
}