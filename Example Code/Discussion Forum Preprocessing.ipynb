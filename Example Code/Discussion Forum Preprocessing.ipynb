{
 "cells": [
  {
   "cell_type": "code",
   "execution_count": 14,
   "metadata": {
    "collapsed": false
   },
   "outputs": [],
   "source": [
    "#Add word count field to discussion forum document in mongodb\n",
    "\n",
    "from pymongo import MongoClient\n",
    "from pymongo.errors import BulkWriteError\n",
    "\n",
    "client = MongoClient()\n",
    "dbname = 'crime101x2014'\n",
    "db = client[dbname]\n",
    "\n",
    "def calculate_wordcount(textcontent):\n",
    "    words = ''.join(c if c.isalnum() else ' ' for c in textcontent).split()\n",
    "    return len(words)\n",
    "\n",
    "def process_forumposts(db):\n",
    "    # Find all forum posts\n",
    "    cursor = db.discussion_forum.find()\n",
    "    \n",
    "    bulk_op = db.discussion_forum.initialize_unordered_bulk_op()\n",
    "\n",
    "    for document in cursor:\n",
    "        #print document\n",
    "        mongo_id = document['_id']\n",
    "        body = document['body']\n",
    "        title = \"\"\n",
    "        if 'title' in document: \n",
    "            title = document['title']\n",
    "        forumpostcontent = body + \" \" + title\n",
    "        wordcount = calculate_wordcount(forumpostcontent)\n",
    "        \n",
    "        bulk_op.find({'_id': mongo_id}).update({'$set': {'wordcount': wordcount}})\n",
    "        \n",
    "    try:\n",
    "        bulk_op.execute()\n",
    "    except BulkWriteError as bwe:\n",
    "        print bwe.details\n",
    "\n",
    "        \n",
    "        \n",
    "        \n",
    "        "
   ]
  },
  {
   "cell_type": "code",
   "execution_count": 15,
   "metadata": {
    "collapsed": false
   },
   "outputs": [],
   "source": [
    "process_forumposts(db)"
   ]
  }
 ],
 "metadata": {
  "kernelspec": {
   "display_name": "Python 2",
   "language": "python",
   "name": "python2"
  },
  "language_info": {
   "codemirror_mode": {
    "name": "ipython",
    "version": 2
   },
   "file_extension": ".py",
   "mimetype": "text/x-python",
   "name": "python",
   "nbconvert_exporter": "python",
   "pygments_lexer": "ipython2",
   "version": "2.7.10"
  }
 },
 "nbformat": 4,
 "nbformat_minor": 0
}
